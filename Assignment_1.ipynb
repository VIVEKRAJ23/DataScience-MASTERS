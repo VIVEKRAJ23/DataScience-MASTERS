{
 "cells": [
  {
   "cell_type": "markdown",
   "id": "c6df69d9",
   "metadata": {},
   "source": [
    "# Question 1"
   ]
  },
  {
   "cell_type": "markdown",
   "id": "20cba9a9",
   "metadata": {},
   "source": [
    "1. In the below elements which of them are values or an expression? eg:- values can be integer or string and expressions will be mathematical operators.\n",
    "* \n",
    "'hello'\n",
    "-87.8\n",
    "- \n",
    "/ \n",
    "+\t\n",
    "6 "
   ]
  },
  {
   "cell_type": "markdown",
   "id": "d5a0ebdf",
   "metadata": {},
   "source": [
    "'''\n",
    "*         ->  Expression\n",
    "'hello'   ->  Values\n",
    "-87.8     ->  Values\n",
    "-         ->  Expression\n",
    "/         ->  Expression\n",
    "+\t      ->  Expression\n",
    "6         ->  Values\n",
    "\n",
    "'''"
   ]
  },
  {
   "cell_type": "markdown",
   "id": "a3da23cd",
   "metadata": {},
   "source": [
    "# Question 2"
   ]
  },
  {
   "cell_type": "markdown",
   "id": "3c63e54b",
   "metadata": {},
   "source": [
    "2. What is the difference between string and variable?"
   ]
  },
  {
   "cell_type": "markdown",
   "id": "5e9558b0",
   "metadata": {},
   "source": [
    "A Variable stores a information, and a String is a type of information we would store in a Variable. A String is usually words, enclosed with \"\"\n",
    "\n",
    "X =\"Hello world\"\n",
    "X is variable, Hello World is string"
   ]
  },
  {
   "cell_type": "markdown",
   "id": "2ca31003",
   "metadata": {},
   "source": [
    "# Question 3"
   ]
  },
  {
   "cell_type": "markdown",
   "id": "85f30679",
   "metadata": {},
   "source": [
    "3. Describe three different data types."
   ]
  },
  {
   "cell_type": "markdown",
   "id": "86a54693",
   "metadata": {},
   "source": [
    "Three data types in python are:\n",
    "1. Numeric:\n",
    "   Numeric data type represent the data which has numeric value. Numeric value can be integer, floating number or even complex numbers. These values are defined as int, float and complex class in Python.\n",
    "\n",
    "\n",
    "2. Sequence:\n",
    "    Sequence is the ordered collection of similar or different data types. They allows to store multiple values in an organized and efficient way. There are several sequence types in Python – String,List,Tuple\n",
    "\n",
    "\n",
    "3. Boolean\n",
    "    Data type with one of the two built-in values, True or False."
   ]
  },
  {
   "cell_type": "markdown",
   "id": "314706ea",
   "metadata": {},
   "source": [
    "# Question 4"
   ]
  },
  {
   "cell_type": "markdown",
   "id": "51a07161",
   "metadata": {},
   "source": [
    "What is an expression made up of? What do all expressions do?"
   ]
  },
  {
   "cell_type": "markdown",
   "id": "d53eba75",
   "metadata": {},
   "source": [
    "An expression is made up of variables, operators, and method invocations, which are constructed according to the syntax of the language, that evaluates to a single value. Expression is interpreted to produce some other value."
   ]
  },
  {
   "cell_type": "markdown",
   "id": "391bb74c",
   "metadata": {},
   "source": [
    "# Question 5\n"
   ]
  },
  {
   "cell_type": "markdown",
   "id": "5efba0c4",
   "metadata": {},
   "source": [
    "This assignment statements, like spam = 10. What is the difference between an expression and a statement?"
   ]
  },
  {
   "cell_type": "markdown",
   "id": "97683064",
   "metadata": {},
   "source": [
    "A statement executes something. Execution of statement may or may not produces/displays a result value.\n",
    "\n",
    "An Expression evaluates to a value. Evaluation of an expression always return or produces some result value.\n",
    "\n",
    "Every statement can't be expression, but every expression can be a statement.\n",
    "\n",
    "Statement ex- >>> spam=10\n",
    "\n",
    "Expression ex- >>> spam+1\n",
    "               >>> 11\n",
    "               "
   ]
  },
  {
   "cell_type": "markdown",
   "id": "133dce60",
   "metadata": {},
   "source": [
    "# Question 6"
   ]
  },
  {
   "cell_type": "markdown",
   "id": "285326c9",
   "metadata": {},
   "source": [
    "6. After running the following code, what does the variable bacon contain?\n",
    "bacon = 22\n",
    "bacon + 1"
   ]
  },
  {
   "cell_type": "code",
   "execution_count": 31,
   "id": "cb937de4",
   "metadata": {},
   "outputs": [
    {
     "data": {
      "text/plain": [
       "23"
      ]
     },
     "execution_count": 31,
     "metadata": {},
     "output_type": "execute_result"
    }
   ],
   "source": [
    "bacon = 22\n",
    "bacon + 1      # contain 23  "
   ]
  },
  {
   "cell_type": "markdown",
   "id": "177068c6",
   "metadata": {},
   "source": [
    "# Question 7"
   ]
  },
  {
   "cell_type": "markdown",
   "id": "9aad2ca7",
   "metadata": {},
   "source": [
    "7. What should the values of the following two terms be?\n",
    "'spam' + 'spamspam'    # spamspamspam\n",
    "'spam' * 3             # spamspamspam"
   ]
  },
  {
   "cell_type": "code",
   "execution_count": 32,
   "id": "2fc2a23b",
   "metadata": {},
   "outputs": [
    {
     "data": {
      "text/plain": [
       "'spamspamspam'"
      ]
     },
     "execution_count": 32,
     "metadata": {},
     "output_type": "execute_result"
    }
   ],
   "source": [
    "'spam' + 'spamspam'"
   ]
  },
  {
   "cell_type": "code",
   "execution_count": 17,
   "id": "5f36d6fa",
   "metadata": {},
   "outputs": [
    {
     "data": {
      "text/plain": [
       "'spamspamspam'"
      ]
     },
     "execution_count": 17,
     "metadata": {},
     "output_type": "execute_result"
    }
   ],
   "source": [
    "'spam' * 3"
   ]
  },
  {
   "cell_type": "markdown",
   "id": "5c53b9aa",
   "metadata": {},
   "source": [
    "# Question 8"
   ]
  },
  {
   "cell_type": "markdown",
   "id": "8657c720",
   "metadata": {},
   "source": [
    "Why is eggs a valid variable name while 100 is invalid?"
   ]
  },
  {
   "cell_type": "markdown",
   "id": "2aedff46",
   "metadata": {},
   "source": [
    "Because eggs starts with a alphabet but 100 starts with numerical value. It is against the rule of variable decleration"
   ]
  },
  {
   "cell_type": "markdown",
   "id": "a4578551",
   "metadata": {},
   "source": [
    "# Question 9"
   ]
  },
  {
   "cell_type": "markdown",
   "id": "06648b18",
   "metadata": {},
   "source": [
    "What three functions can be used to get the integer, floating-point number, or string version of a value?"
   ]
  },
  {
   "cell_type": "code",
   "execution_count": 33,
   "id": "9d6dd5c0",
   "metadata": {},
   "outputs": [
    {
     "name": "stdout",
     "output_type": "stream",
     "text": [
      "1\n",
      "1.0\n",
      "1\n"
     ]
    }
   ],
   "source": [
    "a=1\n",
    "print(int(a))\n",
    "print(float(a))\n",
    "print(str(a))"
   ]
  },
  {
   "cell_type": "markdown",
   "id": "4ce3993b",
   "metadata": {},
   "source": [
    "# Question 10"
   ]
  },
  {
   "cell_type": "markdown",
   "id": "082a89f1",
   "metadata": {},
   "source": [
    "Why does this expression cause an error? How can you fix it?\n",
    "'I have eaten ' + 99 + ' burritos.'"
   ]
  },
  {
   "cell_type": "code",
   "execution_count": 27,
   "id": "05ab3fbf",
   "metadata": {},
   "outputs": [
    {
     "ename": "TypeError",
     "evalue": "can only concatenate str (not \"int\") to str",
     "output_type": "error",
     "traceback": [
      "\u001b[1;31m---------------------------------------------------------------------------\u001b[0m",
      "\u001b[1;31mTypeError\u001b[0m                                 Traceback (most recent call last)",
      "\u001b[1;32mC:\\Users\\MYPC~1\\AppData\\Local\\Temp/ipykernel_6616/1774935878.py\u001b[0m in \u001b[0;36m<module>\u001b[1;34m\u001b[0m\n\u001b[1;32m----> 1\u001b[1;33m \u001b[1;34m'I have eaten '\u001b[0m \u001b[1;33m+\u001b[0m \u001b[1;36m99\u001b[0m \u001b[1;33m+\u001b[0m \u001b[1;34m' burritos.'\u001b[0m\u001b[1;33m\u001b[0m\u001b[1;33m\u001b[0m\u001b[0m\n\u001b[0m",
      "\u001b[1;31mTypeError\u001b[0m: can only concatenate str (not \"int\") to str"
     ]
    }
   ],
   "source": [
    "'I have eaten ' + 99 + ' burritos.'"
   ]
  },
  {
   "cell_type": "markdown",
   "id": "efcbe70c",
   "metadata": {},
   "source": [
    "Solution:"
   ]
  },
  {
   "cell_type": "code",
   "execution_count": 28,
   "id": "6957f257",
   "metadata": {},
   "outputs": [
    {
     "data": {
      "text/plain": [
       "'I have eaten 99 burritos.'"
      ]
     },
     "execution_count": 28,
     "metadata": {},
     "output_type": "execute_result"
    }
   ],
   "source": [
    "'I have eaten ' + '99' + ' burritos.'"
   ]
  },
  {
   "cell_type": "code",
   "execution_count": null,
   "id": "987ad6d6",
   "metadata": {},
   "outputs": [],
   "source": []
  }
 ],
 "metadata": {
  "kernelspec": {
   "display_name": "Python 3 (ipykernel)",
   "language": "python",
   "name": "python3"
  },
  "language_info": {
   "codemirror_mode": {
    "name": "ipython",
    "version": 3
   },
   "file_extension": ".py",
   "mimetype": "text/x-python",
   "name": "python",
   "nbconvert_exporter": "python",
   "pygments_lexer": "ipython3",
   "version": "3.9.7"
  }
 },
 "nbformat": 4,
 "nbformat_minor": 5
}
